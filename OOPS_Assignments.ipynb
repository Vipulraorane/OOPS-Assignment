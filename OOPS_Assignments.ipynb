{
  "nbformat": 4,
  "nbformat_minor": 0,
  "metadata": {
    "colab": {
      "provenance": []
    },
    "kernelspec": {
      "name": "python3",
      "display_name": "Python 3"
    },
    "language_info": {
      "name": "python"
    }
  },
  "cells": [
    {
      "cell_type": "markdown",
      "source": [
        "#Theory Questions**"
      ],
      "metadata": {
        "id": "NTFIZbVRvAwE"
      }
    },
    {
      "cell_type": "markdown",
      "source": [
        "**What is Object-Oriented Programming oops?**\n",
        "\n",
        "Object-Oriented Programming (OOP) is a programming paradigm based on the concept of objects, which contain data (attributes) and methods (functions).\n",
        "\n",
        "It helps organize code into reusable and modular parts using four main principles:\n",
        "\n",
        "- Encapsulation – Hides internal details and only exposes necessary parts.\n",
        "\n",
        "- Inheritance – Allows a class to inherit properties from another class.\n",
        "\n",
        "- Polymorphism – Allows methods to behave differently based on context.\n",
        "\n",
        "- Abstraction – Hides complex implementation and shows only essential features."
      ],
      "metadata": {
        "id": "Sh14TWk1vIN2"
      }
    },
    {
      "cell_type": "markdown",
      "source": [
        "**What is a class in OOP?**\n",
        "- A class in OOP is a blueprint or template for creating objects.\n",
        "- It defines the attributes (data) and methods (functions) that the objects will have."
      ],
      "metadata": {
        "id": "R2ox6OQ8vMcW"
      }
    },
    {
      "cell_type": "markdown",
      "source": [
        "**What is an object in OOP?**\n",
        "\n",
        "- An object is an instance of a class.\n",
        "- It holds real values for the attributes and can use the methods defined in the class.\n"
      ],
      "metadata": {
        "id": "GkTkvG93vNvs"
      }
    },
    {
      "cell_type": "markdown",
      "source": [
        "**What is the difference between abstraction and encapsulation?**\n",
        "\n",
        "Abstraction and Encapsulation are key OOP concepts but differ:\n",
        "\n",
        "- Abstraction: Hides implementation details, shows only important features.\n",
        "👉 Focuses on what an object does.\n",
        "\n",
        "- Encapsulation: Hides data by wrapping it inside a class and using access controls.\n",
        "👉 Focuses on how data is protected.\n",
        "\n",
        "In short:\n",
        "\n",
        "- Abstraction = Hiding complexity\n",
        "\n",
        "- Encapsulation = Hiding data"
      ],
      "metadata": {
        "id": "BYScoRwtvNtE"
      }
    },
    {
      "cell_type": "markdown",
      "source": [
        "**What are dunder methods in Python**\n",
        "\n",
        "Dunder methods in Python are special methods with double underscores before and after their names (short for “double underscore”).\n",
        "\n",
        "Examples:\n",
        "\n",
        "- __init__() – Constructor\n",
        "\n",
        "- __str__() – String representation\n",
        "\n",
        "- __len__() – Length of object\n",
        "\n",
        "- __add__() – Addition behavior\n",
        "\n",
        "They let you customize object behavior for built-in operations."
      ],
      "metadata": {
        "id": "ZCo1cmmXvNqQ"
      }
    },
    {
      "cell_type": "markdown",
      "source": [
        "**Explain the concept of inheritance in OOP**\n",
        "- Inheritance in OOP allows a child class to reuse code from a parent class.\n",
        "- The child class inherits attributes and methods, and can also add or override them."
      ],
      "metadata": {
        "id": "z-khcpM0vNnf"
      }
    },
    {
      "cell_type": "code",
      "source": [
        "class Animal:\n",
        "    def speak(self):\n",
        "        print(\"Animal speaks\")\n",
        "\n",
        "class Dog(Animal):\n",
        "    def speak(self):\n",
        "        print(\"Dog barks\")"
      ],
      "metadata": {
        "id": "AfxlcOkdyrMV"
      },
      "execution_count": 1,
      "outputs": []
    },
    {
      "cell_type": "markdown",
      "source": [
        "**What is polymorphism in OOP**\n",
        "- Polymorphism in OOP means one function or method behaves differently based on the object calling it."
      ],
      "metadata": {
        "id": "h5YYPuSMvNkg"
      }
    },
    {
      "cell_type": "code",
      "source": [
        "class Cat:\n",
        "    def sound(self):\n",
        "        print(\"Meow\")\n",
        "\n",
        "class Dog:\n",
        "    def sound(self):\n",
        "        print(\"Bark\")\n",
        "\n",
        "# Polymorphism in action\n",
        "for animal in [Cat(), Dog()]:\n",
        "    animal.sound()\n",
        "\n",
        "#Same method name, different behavior → based on the object."
      ],
      "metadata": {
        "id": "TSHUWKDly0Hj"
      },
      "execution_count": null,
      "outputs": []
    },
    {
      "cell_type": "markdown",
      "source": [
        "**How is encapsulation achieved in Python**\n",
        "1. Encapsulation in Python is achieved by:\n",
        "\n",
        "2. Defining a class to group data and methods together.\n",
        "\n",
        "3. Using access modifiers to restrict access to data:\n",
        "\n",
        "  - _var: Protected (convention)\n",
        "\n",
        "  - __var: Private (name mangling)"
      ],
      "metadata": {
        "id": "Mv3BBquDvNho"
      }
    },
    {
      "cell_type": "code",
      "source": [
        "class Person:\n",
        "    def __init__(self, name):\n",
        "        self.__name = name  # private\n",
        "\n",
        "    def get_name(self):\n",
        "        return self.__name  # controlled access\n"
      ],
      "metadata": {
        "id": "ltRBBGkGzGbY"
      },
      "execution_count": 2,
      "outputs": []
    },
    {
      "cell_type": "markdown",
      "source": [
        "**What is a constructor in Python**\n",
        "- A constructor in Python is a special method called __init__() that runs automatically when an object is created."
      ],
      "metadata": {
        "id": "iqR_Ho-wvNes"
      }
    },
    {
      "cell_type": "markdown",
      "source": [
        "**What are class and static methods in Python**\n",
        "1. Class Method:\n",
        "   - Defined with @classmethod\n",
        "\n",
        "   - Takes cls as the first parameter\n",
        "\n",
        "   - Can access/modify class-level data\n",
        "\n",
        "2. Static Method:\n",
        "   - Defined with @staticmethod\n",
        "\n",
        "   - Takes no self or cls\n",
        "\n",
        "   - Acts like a regular function inside a class"
      ],
      "metadata": {
        "id": "dGIfaeIovNb_"
      }
    },
    {
      "cell_type": "code",
      "source": [
        "#class method\n",
        "class MyClass:\n",
        "    count = 0\n",
        "\n",
        "    @classmethod\n",
        "    def show_count(cls):\n",
        "        print(cls.count)\n",
        "\n",
        "#static method\n",
        "class MyClass:\n",
        "    @staticmethod\n",
        "    def greet():\n",
        "        print(\"Hello!\")\n"
      ],
      "metadata": {
        "id": "iLLCyDfAzoYL"
      },
      "execution_count": 3,
      "outputs": []
    },
    {
      "cell_type": "markdown",
      "source": [
        "**What is method overloading in Python**\n",
        "\n",
        "Method overloading means defining multiple methods with the same name but different arguments.\n",
        "\n",
        "-  Python doesn’t support true method overloading like other languages.\n",
        "But it can be mimicked using default arguments or *args / **kwargs."
      ],
      "metadata": {
        "id": "1AlFzhajvNZM"
      }
    },
    {
      "cell_type": "code",
      "source": [
        "class Demo:\n",
        "    def show(self, a=None, b=None):\n",
        "        if a and b:\n",
        "            print(a, b)\n",
        "        elif a:\n",
        "            print(a)\n",
        "        else:\n",
        "            print(\"No args\")\n"
      ],
      "metadata": {
        "id": "XOK8_MfDz2gJ"
      },
      "execution_count": null,
      "outputs": []
    },
    {
      "cell_type": "markdown",
      "source": [
        "**What is method overriding in OOP**\n",
        "- Method overriding in OOP means a child class defines a method with the same name as one in its parent class, replacing its behavior"
      ],
      "metadata": {
        "id": "R7AKTXicvNWd"
      }
    },
    {
      "cell_type": "code",
      "source": [
        "class Animal:\n",
        "    def sound(self):\n",
        "        print(\"Animal sound\")\n",
        "\n",
        "class Dog(Animal):\n",
        "    def sound(self):\n",
        "        print(\"Dog barks\")\n"
      ],
      "metadata": {
        "id": "EbqES2-Jz9CJ"
      },
      "execution_count": null,
      "outputs": []
    },
    {
      "cell_type": "markdown",
      "source": [
        "**What is a property decorator in Python**\n",
        "- The @property decorator in Python is used to turn a method into a getter so it can be accessed like an attribute."
      ],
      "metadata": {
        "id": "PmsvDi0MvNTs"
      }
    },
    {
      "cell_type": "code",
      "source": [
        "class Person:\n",
        "    def __init__(self, age):\n",
        "        self._age = age\n",
        "\n",
        "    @property\n",
        "    def age(self):\n",
        "        return self._age\n"
      ],
      "metadata": {
        "id": "B5c-h1Ax0TiJ"
      },
      "execution_count": null,
      "outputs": []
    },
    {
      "cell_type": "markdown",
      "source": [
        "**Why is polymorphism important in OOP**\n",
        "\n",
        "- Polymorphism is important in OOP because it allows:\n",
        "\n",
        "  - Same interface, different behavior\n",
        "\n",
        "  - Code to be more flexible and extensible\n",
        "\n",
        "  - Easier to work with different object types using the same code\n",
        "\n",
        "- It supports clean, reusable, and scalable code."
      ],
      "metadata": {
        "id": "FAQvBt2svNQ8"
      }
    },
    {
      "cell_type": "markdown",
      "source": [
        "**What is an abstract class in Python**\n",
        "- An abstract class in Python is a class that cannot be instantiated and is meant to be inherited.\n",
        "It can have abstract methods (without implementation)"
      ],
      "metadata": {
        "id": "EPFw0WBYvNOI"
      }
    },
    {
      "cell_type": "code",
      "source": [
        "from abc import ABC, abstractmethod\n",
        "\n",
        "class Animal(ABC):\n",
        "    @abstractmethod\n",
        "    def sound(self):\n",
        "        pass\n"
      ],
      "metadata": {
        "id": "rEAmnqjz0nwM"
      },
      "execution_count": null,
      "outputs": []
    },
    {
      "cell_type": "markdown",
      "source": [
        "**What are the advantages of OOP**\n",
        "\n",
        "- Advantages of OOP:\n",
        " 1. Modularity – Code is organized into classes\n",
        "\n",
        " 2. Reusability – Use existing code through inheritance\n",
        "\n",
        " 3. Maintainability – Easy to update and fix bugs\n",
        "\n",
        " 4. Scalability – Easier to manage large projects\n",
        "\n",
        " 5. Security – Data hiding using encapsulation\n",
        "\n",
        " 6. Flexibility – Achieved through polymorphism\n",
        "\n",
        "- OOP makes code clean, organized, and reusable."
      ],
      "metadata": {
        "id": "0XjF2ZlnvNGg"
      }
    },
    {
      "cell_type": "markdown",
      "source": [
        "**What is the difference between a class variable and an instance variable**\n",
        "\n",
        "| Feature        | Class Variable                 | Instance Variable                    |\n",
        "| -------------- | ------------------------------ | ------------------------------------ |\n",
        "| Defined in     | Inside class (outside methods) | Inside `__init__()` or other methods |\n",
        "| Belongs to     | Class (shared by all objects)  | Specific to each object              |\n",
        "| Accessed using | Class name or object           | Only through object                  |\n",
        "| Example        | `count = 0`                    | `self.name = \"Vipul\"`                |\n"
      ],
      "metadata": {
        "id": "MEdro8GBvMiC"
      }
    },
    {
      "cell_type": "markdown",
      "source": [
        "**What is multiple inheritance in Python**\n",
        "- Multiple inheritance in Python means a class can inherit from more than one parent class.\n",
        "\n"
      ],
      "metadata": {
        "id": "3bkpEI-uwCiv"
      }
    },
    {
      "cell_type": "code",
      "source": [
        "class A:\n",
        "    def method(self):\n",
        "        print(\"A\")\n",
        "\n",
        "class B:\n",
        "    def method(self):\n",
        "        print(\"B\")\n",
        "\n",
        "class C(A, B):\n",
        "    pass\n",
        "\n",
        "obj = C()\n",
        "obj.method()  # Output: A (Python follows MRO - Method Resolution Order)\n"
      ],
      "metadata": {
        "id": "gnOiVQir1gTY"
      },
      "execution_count": null,
      "outputs": []
    },
    {
      "cell_type": "markdown",
      "source": [
        "**Explain the purpose of ‘’__str__’ and ‘__repr__’ ‘ methods in Python**\n",
        "\n",
        "| Method       | Purpose                                | Used by      | Goal                         |\n",
        "| ------------ | -------------------------------------- | ------------ | ---------------------------- |\n",
        "| `__str__()`  | Returns a **readable** string          | `print(obj)` | For **users**                |\n",
        "| `__repr__()` | Returns a **detailed/official** string | `repr(obj)`  | For **developers/debugging** |\n"
      ],
      "metadata": {
        "id": "Ab2BSw0mwCfW"
      }
    },
    {
      "cell_type": "code",
      "source": [
        "class Demo:\n",
        "    def __str__(self):\n",
        "        return \"User View\"\n",
        "    def __repr__(self):\n",
        "        return \"Developer View\"\n",
        "\n",
        "obj = Demo()\n",
        "print(obj)        # User View\n",
        "print(repr(obj))  # Developer View\n"
      ],
      "metadata": {
        "id": "Fk_-af3Z1lwJ"
      },
      "execution_count": null,
      "outputs": []
    },
    {
      "cell_type": "markdown",
      "source": [
        "**What is the significance of the ‘super()’ function in Python**\n",
        "\n",
        "- The super() function in Python is used to call methods of a parent class from a child class.\n",
        "\n",
        "**Significance:**\n",
        "- Helps in reusing parent class code\n",
        "\n",
        "- Commonly used in constructors (__init__)\n",
        "\n",
        "- Supports multiple inheritance with proper method resolutionb"
      ],
      "metadata": {
        "id": "xq_94GqPwCcq"
      }
    },
    {
      "cell_type": "markdown",
      "source": [
        "**What is the significance of the __del__ method in Python**\n",
        "- The __del__() method in Python is a destructor.\n",
        "- It is called automatically when an object is about to be deleted or destroyed\n",
        "\n",
        "**Significance:**\n",
        "- Used to clean up resources (like files, network connections, etc.)\n",
        "\n",
        "- Acts like a finalizer"
      ],
      "metadata": {
        "id": "b3UVevpewCaP"
      }
    },
    {
      "cell_type": "markdown",
      "source": [
        "**What is the difference between @staticmethod and @classmethod in Python**\n",
        "\n",
        "| Feature         | `@staticmethod`                  | `@classmethod`                      |\n",
        "| --------------- | -------------------------------- | ----------------------------------- |\n",
        "| First argument  | No `self` or `cls`               | Takes `cls` as the first argument   |\n",
        "| Access to class | ❌ No access to class or instance | ✅ Can access/modify class variables |\n",
        "| Use case        | Utility functions                | Factory methods / class-level logic |\n"
      ],
      "metadata": {
        "id": "TWs2Olx0wCXj"
      }
    },
    {
      "cell_type": "code",
      "source": [
        "class Demo:\n",
        "    count = 0\n",
        "\n",
        "    @staticmethod\n",
        "    def greet():\n",
        "        print(\"Hello!\")\n",
        "\n",
        "    @classmethod\n",
        "    def increment(cls):\n",
        "        cls.count += 1\n"
      ],
      "metadata": {
        "id": "nosPJf5W2EHF"
      },
      "execution_count": null,
      "outputs": []
    },
    {
      "cell_type": "markdown",
      "source": [
        "**How does polymorphism work in Python with inheritance**\n",
        "\n",
        "- Polymorphism allows different classes to define methods with the same name, and Python will call the correct one based on the object.\n",
        "\n",
        "- How it works with inheritance:\n",
        "  - When a child class overrides a method from the parent class, and we call that method using a parent reference, Python runs the child version."
      ],
      "metadata": {
        "id": "ipCD92fEwCU7"
      }
    },
    {
      "cell_type": "code",
      "source": [
        "class Animal:\n",
        "    def speak(self):\n",
        "        print(\"Animal sound\")\n",
        "\n",
        "class Dog(Animal):\n",
        "    def speak(self):\n",
        "        print(\"Dog barks\")\n",
        "\n",
        "class Cat(Animal):\n",
        "    def speak(self):\n",
        "        print(\"Cat meows\")\n",
        "\n",
        "# Polymorphism in action\n",
        "for animal in [Dog(), Cat()]:\n",
        "    animal.speak()\n"
      ],
      "metadata": {
        "id": "melN-gD72QBI"
      },
      "execution_count": null,
      "outputs": []
    },
    {
      "cell_type": "markdown",
      "source": [
        "**What is method chaining in Python OOP**\n",
        "- Method chaining means calling multiple methods on the same object in a single line, one after another.\n",
        "\n",
        "- Each method must return self.\n",
        "\n"
      ],
      "metadata": {
        "id": "CPT5npk1wCSP"
      }
    },
    {
      "cell_type": "code",
      "source": [
        "class Calculator:\n",
        "    def __init__(self, value=0):\n",
        "        self.value = value\n",
        "\n",
        "    def add(self, n):\n",
        "        self.value += n\n",
        "        return self\n",
        "\n",
        "    def multiply(self, n):\n",
        "        self.value *= n\n",
        "        return self\n",
        "\n",
        "    def result(self):\n",
        "        return self.value\n",
        "\n",
        "# Method chaining\n",
        "calc = Calculator()\n",
        "print(calc.add(5).multiply(2).result())  # Output: 10\n"
      ],
      "metadata": {
        "id": "AIw7JKNy2X0g"
      },
      "execution_count": null,
      "outputs": []
    },
    {
      "cell_type": "markdown",
      "source": [
        "**What is the purpose of the __call__ method in Python**\n",
        "- The __call__() method lets an object be called like a function.\n",
        "\n",
        "- Why use it?\n",
        " - To make objects behave like functions\n",
        "\n",
        " - Useful in function wrappers, decorators, and custom behavior"
      ],
      "metadata": {
        "id": "0MgPRjxIwCO_"
      }
    },
    {
      "cell_type": "markdown",
      "source": [
        "#**Practical Questions**"
      ],
      "metadata": {
        "id": "8MB-4qx_wiIB"
      }
    },
    {
      "cell_type": "markdown",
      "source": [
        "**Create a parent class Animal with a method speak() that prints a generic message. Create a child class Dog\n",
        "that overrides the speak() method to print \"Bark!\".**"
      ],
      "metadata": {
        "id": "IFPF8fEHwlVl"
      }
    },
    {
      "cell_type": "code",
      "source": [
        "class Animal:\n",
        "  def speak(self):\n",
        "    print(\"This is Parent class\")\n",
        "\n",
        "class Dog(Animal):\n",
        "  def speak(self):\n",
        "    print(\"This is child class overriding parent class\")"
      ],
      "metadata": {
        "id": "l8HKQpxbxVJl"
      },
      "execution_count": 10,
      "outputs": []
    },
    {
      "cell_type": "code",
      "source": [
        "a = Animal()\n",
        "b = Dog()"
      ],
      "metadata": {
        "id": "RPl6XExX8T3h"
      },
      "execution_count": 11,
      "outputs": []
    },
    {
      "cell_type": "code",
      "source": [
        "a.speak()"
      ],
      "metadata": {
        "colab": {
          "base_uri": "https://localhost:8080/"
        },
        "id": "QzEN6-S48qDa",
        "outputId": "b36a9efd-73ee-4503-99f7-b5557e91f9e6"
      },
      "execution_count": 12,
      "outputs": [
        {
          "output_type": "stream",
          "name": "stdout",
          "text": [
            "This is Parent class\n"
          ]
        }
      ]
    },
    {
      "cell_type": "code",
      "source": [
        "b.speak()    #overrides parent class method"
      ],
      "metadata": {
        "colab": {
          "base_uri": "https://localhost:8080/"
        },
        "id": "cubvcPxe8c-x",
        "outputId": "6f82c6c2-a63b-4b15-cdc3-7f4138c10e57"
      },
      "execution_count": 13,
      "outputs": [
        {
          "output_type": "stream",
          "name": "stdout",
          "text": [
            "This is child class overriding parent class\n"
          ]
        }
      ]
    },
    {
      "cell_type": "markdown",
      "source": [
        "**Write a program to create an abstract class Shape with a method area(). Derive classes Circle and Rectangle\n",
        "from it and implement the area() method in both.**"
      ],
      "metadata": {
        "id": "84nYyxZXwmIj"
      }
    },
    {
      "cell_type": "code",
      "source": [
        "from abc import ABC, abstractmethod\n",
        "import math\n",
        "\n",
        "# Abstract class\n",
        "class Shape(ABC):\n",
        "    @abstractmethod\n",
        "    def area(self):\n",
        "        pass\n",
        "\n",
        "# Derived class: Circle\n",
        "class Circle(Shape):\n",
        "    def __init__(self, radius):\n",
        "        self.radius = radius\n",
        "\n",
        "    def area(self):\n",
        "        return math.pi * self.radius ** 2\n",
        "\n",
        "# Derived class: Rectangle\n",
        "class Rectangle(Shape):\n",
        "    def __init__(self, length, width):\n",
        "        self.length = length\n",
        "        self.width = width\n",
        "\n",
        "    def area(self):\n",
        "        return self.length * self.width\n",
        "\n",
        "# Testing\n",
        "c = Circle(5)\n",
        "r = Rectangle(4, 6)\n",
        "\n",
        "print(\"Circle area:\", c.area())      # Output: 78.539...\n",
        "print(\"Rectangle area:\", r.area())   # Output: 24\n"
      ],
      "metadata": {
        "colab": {
          "base_uri": "https://localhost:8080/"
        },
        "id": "gCj5N7ZZxVzG",
        "outputId": "a80f4a0f-562f-4be7-acb7-5a2c6c63c232"
      },
      "execution_count": 15,
      "outputs": [
        {
          "output_type": "stream",
          "name": "stdout",
          "text": [
            "Circle area: 78.53981633974483\n",
            "Rectangle area: 24\n"
          ]
        }
      ]
    },
    {
      "cell_type": "markdown",
      "source": [
        "**Implement a multi-level inheritance scenario where a class Vehicle has an attribute type. Derive a class Car\n",
        "and further derive a class ElectricCar that adds a battery attribute.**"
      ],
      "metadata": {
        "id": "vRdVaEv-wntk"
      }
    },
    {
      "cell_type": "code",
      "source": [
        "# Base class\n",
        "class Vehicle:\n",
        "    def __init__(self, type):\n",
        "        self.type = type\n",
        "\n",
        "# Derived class from Vehicle\n",
        "class Car(Vehicle):\n",
        "    def __init__(self, type, brand):\n",
        "        super().__init__(type)     # Call Vehicle's constructor\n",
        "        self.brand = brand\n",
        "\n",
        "# Derived class from Car (multi-level)\n",
        "class ElectricCar(Car):\n",
        "    def __init__(self, type, brand, battery):\n",
        "        super().__init__(type, brand)  # Call Car's constructor\n",
        "        self.battery = battery\n",
        "\n",
        "    def show_info(self):\n",
        "        print(\"Vehicle Type:\", self.type)\n",
        "        print(\"Brand:\", self.brand)\n",
        "        print(\"Battery Capacity:\", self.battery)\n",
        "\n",
        "# Testing\n",
        "e_car = ElectricCar(\"4-Wheeler\", \"Tesla\", \"75 kWh\")\n",
        "e_car.show_info()\n"
      ],
      "metadata": {
        "colab": {
          "base_uri": "https://localhost:8080/"
        },
        "id": "uf6BWnMWxWk9",
        "outputId": "f6639cf3-76c6-41e3-fc06-a8b3462be690"
      },
      "execution_count": 17,
      "outputs": [
        {
          "output_type": "stream",
          "name": "stdout",
          "text": [
            "Vehicle Type: 4-Wheeler\n",
            "Brand: Tesla\n",
            "Battery Capacity: 75 kWh\n"
          ]
        }
      ]
    },
    {
      "cell_type": "markdown",
      "source": [
        "**Demonstrate polymorphism by creating a base class Bird with a method fly(). Create two derived classes\n",
        "Sparrow and Penguin that override the fly() method**"
      ],
      "metadata": {
        "id": "vqBq3RUDwnqj"
      }
    },
    {
      "cell_type": "code",
      "source": [
        "# Base class\n",
        "class Bird:\n",
        "    def fly(self):\n",
        "        print(\"Bird is flying\")\n",
        "\n",
        "# Derived class 1\n",
        "class Sparrow(Bird):\n",
        "    def fly(self):\n",
        "        print(\"Sparrow flies high\")\n",
        "\n",
        "# Derived class 2\n",
        "class Penguin(Bird):\n",
        "    def fly(self):\n",
        "        print(\"Penguins can't fly\")\n",
        "\n",
        "# Function to demonstrate polymorphism\n",
        "def show_flight(bird):\n",
        "    bird.fly()\n",
        "\n",
        "# Testing\n",
        "b1 = Sparrow()\n",
        "b2 = Penguin()\n",
        "\n",
        "show_flight(b1)  # Output: Sparrow flies high\n",
        "show_flight(b2)  # Output: Penguins can't fly\n"
      ],
      "metadata": {
        "colab": {
          "base_uri": "https://localhost:8080/"
        },
        "id": "VK5UOxP4xXIe",
        "outputId": "44ae448f-1636-42cb-94ae-0861b3487d73"
      },
      "execution_count": 18,
      "outputs": [
        {
          "output_type": "stream",
          "name": "stdout",
          "text": [
            "Sparrow flies high\n",
            "Penguins can't fly\n"
          ]
        }
      ]
    },
    {
      "cell_type": "markdown",
      "source": [
        "**Write a program to demonstrate encapsulation by creating a class BankAccount with private attributes\n",
        "balance and methods to deposit, withdraw, and check balance**"
      ],
      "metadata": {
        "id": "QGZO3HKAwnnr"
      }
    },
    {
      "cell_type": "code",
      "source": [
        "class BankAccount:\n",
        "    def __init__(self, initial_balance):\n",
        "        self.__balance = initial_balance  # Private attribute\n",
        "\n",
        "    # Method to deposit money\n",
        "    def deposit(self, amount):\n",
        "        if amount > 0:\n",
        "            self.__balance += amount\n",
        "            print(f\"Deposited ₹{amount}\")\n",
        "        else:\n",
        "            print(\"Invalid deposit amount\")\n",
        "\n",
        "    # Method to withdraw money\n",
        "    def withdraw(self, amount):\n",
        "        if 0 < amount <= self.__balance:\n",
        "            self.__balance -= amount\n",
        "            print(f\"Withdrawn ₹{amount}\")\n",
        "        else:\n",
        "            print(\"Insufficient balance or invalid amount\")\n",
        "\n",
        "    # Method to check balance\n",
        "    def check_balance(self):\n",
        "        print(f\"Current Balance: ₹{self.__balance}\")\n",
        "\n",
        "# Testing\n",
        "acc = BankAccount(1000)  # Create account with ₹1000\n",
        "\n",
        "acc.check_balance()      # ₹1000\n",
        "acc.deposit(500)         # +₹500\n",
        "acc.withdraw(300)        # -₹300\n",
        "acc.check_balance()      # ₹1200\n"
      ],
      "metadata": {
        "colab": {
          "base_uri": "https://localhost:8080/"
        },
        "id": "7zyVx9fWxXy3",
        "outputId": "7d5cea46-5410-417e-b897-9bc74a9ad079"
      },
      "execution_count": 20,
      "outputs": [
        {
          "output_type": "stream",
          "name": "stdout",
          "text": [
            "Current Balance: ₹1000\n",
            "Deposited ₹500\n",
            "Withdrawn ₹300\n",
            "Current Balance: ₹1200\n"
          ]
        }
      ]
    },
    {
      "cell_type": "markdown",
      "source": [
        "**Demonstrate runtime polymorphism using a method play() in a base class Instrument. Derive classes Guitar\n",
        "and Piano that implement their own version of play().**"
      ],
      "metadata": {
        "id": "46ZVo1RAwnkn"
      }
    },
    {
      "cell_type": "code",
      "source": [
        "# Base class\n",
        "class Instrument:\n",
        "    def play(self):\n",
        "        print(\"Instrument is playing\")\n",
        "\n",
        "# Derived class 1\n",
        "class Guitar(Instrument):\n",
        "    def play(self):\n",
        "        print(\"Guitar is strumming\")\n",
        "\n",
        "# Derived class 2\n",
        "class Piano(Instrument):\n",
        "    def play(self):\n",
        "        print(\"Piano is playing melody\")\n",
        "\n",
        "# Function to demonstrate polymorphism\n",
        "def start_playing(instrument):\n",
        "    instrument.play()\n",
        "\n",
        "# Testing\n",
        "i1 = Guitar()\n",
        "i2 = Piano()\n",
        "\n",
        "start_playing(i1)   # Output: Guitar is strumming\n",
        "start_playing(i2)   # Output: Piano is playing melody\n"
      ],
      "metadata": {
        "colab": {
          "base_uri": "https://localhost:8080/"
        },
        "id": "kIhWES4NxYOX",
        "outputId": "9e6c8791-5e7c-43fb-b690-6150a63babe5"
      },
      "execution_count": 21,
      "outputs": [
        {
          "output_type": "stream",
          "name": "stdout",
          "text": [
            "Guitar is strumming\n",
            "Piano is playing melody\n"
          ]
        }
      ]
    },
    {
      "cell_type": "markdown",
      "source": [
        "**Create a class MathOperations with a class method add_numbers() to add two numbers and a static\n",
        "method subtract_numbers() to subtract two numbers**"
      ],
      "metadata": {
        "id": "BpC9qJCawnhz"
      }
    },
    {
      "cell_type": "code",
      "source": [
        "class MathOperations:\n",
        "    @classmethod\n",
        "    def add_numbers(cls, a, b):\n",
        "        return a + b\n",
        "\n",
        "    @staticmethod\n",
        "    def subtract_numbers(a, b):\n",
        "        return a - b\n",
        "\n",
        "# Testing the methods\n",
        "print(\"Addition:\", MathOperations.add_numbers(10, 5))     # Output: 15\n",
        "print(\"Subtraction:\", MathOperations.subtract_numbers(10, 5))  # Output: 5\n"
      ],
      "metadata": {
        "colab": {
          "base_uri": "https://localhost:8080/"
        },
        "id": "C9lr7ob0xYvN",
        "outputId": "34c20675-6da7-427a-a578-9bd40e599447"
      },
      "execution_count": 22,
      "outputs": [
        {
          "output_type": "stream",
          "name": "stdout",
          "text": [
            "Addition: 15\n",
            "Subtraction: 5\n"
          ]
        }
      ]
    },
    {
      "cell_type": "markdown",
      "source": [
        "**Implement a class Person with a class method to count the total number of persons created**"
      ],
      "metadata": {
        "id": "yu0Upm9qwnfL"
      }
    },
    {
      "cell_type": "code",
      "source": [
        "class Person:\n",
        "    count = 0  # Class variable to count persons\n",
        "\n",
        "    def __init__(self, name):\n",
        "        self.name = name\n",
        "        Person.count += 1  # Increment count when a new person is created\n",
        "\n",
        "    @classmethod\n",
        "    def total_persons(cls):\n",
        "        return cls.count\n",
        "\n",
        "# Creating Person objects\n",
        "p1 = Person(\"Alice\")\n",
        "p2 = Person(\"Bob\")\n",
        "p3 = Person(\"Charlie\")\n",
        "\n",
        "# Display total number of persons\n",
        "print(\"Total persons created:\", Person.total_persons())  # Output: 3\n"
      ],
      "metadata": {
        "colab": {
          "base_uri": "https://localhost:8080/"
        },
        "id": "NeELy7jfxZrA",
        "outputId": "47418e94-8c97-4b62-f5df-7b49c73b1194"
      },
      "execution_count": 23,
      "outputs": [
        {
          "output_type": "stream",
          "name": "stdout",
          "text": [
            "Total persons created: 3\n"
          ]
        }
      ]
    },
    {
      "cell_type": "markdown",
      "source": [
        "**Write a class Fraction with attributes numerator and denominator. Override the str method to display the\n",
        "fraction as \"numerator/denominator**"
      ],
      "metadata": {
        "id": "OP9Q-SMCwncf"
      }
    },
    {
      "cell_type": "code",
      "source": [
        "class Fraction:\n",
        "    def __init__(self, numerator, denominator):\n",
        "        self.numerator = numerator\n",
        "        self.denominator = denominator\n",
        "\n",
        "    def __str__(self):\n",
        "        return f\"{self.numerator}/{self.denominator}\"\n",
        "\n",
        "# Example usage\n",
        "f1 = Fraction(3, 4)\n",
        "f2 = Fraction(7, 2)\n",
        "\n",
        "print(f1)  # Output: 3/4\n",
        "print(f2)  # Output: 7/2\n"
      ],
      "metadata": {
        "colab": {
          "base_uri": "https://localhost:8080/"
        },
        "id": "sjJlsMnExaIc",
        "outputId": "dd09e25c-6d3e-43e3-af0f-615a6f571759"
      },
      "execution_count": 24,
      "outputs": [
        {
          "output_type": "stream",
          "name": "stdout",
          "text": [
            "3/4\n",
            "7/2\n"
          ]
        }
      ]
    },
    {
      "cell_type": "markdown",
      "source": [
        "**Demonstrate operator overloading by creating a class Vector and overriding the add method to add two\n",
        "vectors**"
      ],
      "metadata": {
        "id": "6Q4nbi_AwnZj"
      }
    },
    {
      "cell_type": "code",
      "source": [
        "class Vector:\n",
        "    def __init__(self, x, y):\n",
        "        self.x = x\n",
        "        self.y = y\n",
        "\n",
        "    def __add__(self, other):\n",
        "        # Add the x and y components of two vectors\n",
        "        return Vector(self.x + other.x, self.y + other.y)\n",
        "\n",
        "    def __str__(self):\n",
        "        return f\"({self.x}, {self.y})\"\n",
        "\n",
        "# Example usage\n",
        "v1 = Vector(2, 3)\n",
        "v2 = Vector(4, 5)\n",
        "\n",
        "v3 = v1 + v2  # Calls __add__ method\n",
        "print(v3)     # Output: (6, 8)\n"
      ],
      "metadata": {
        "colab": {
          "base_uri": "https://localhost:8080/"
        },
        "id": "CuRMnYJGxaya",
        "outputId": "c10d2cf5-4a4e-4cb5-fc99-cfb82ba3dc6b"
      },
      "execution_count": 25,
      "outputs": [
        {
          "output_type": "stream",
          "name": "stdout",
          "text": [
            "(6, 8)\n"
          ]
        }
      ]
    },
    {
      "cell_type": "markdown",
      "source": [
        "**Create a class Person with attributes name and age. Add a method greet() that prints \"Hello, my name is\n",
        "{name} and I am {age} years old.\"**"
      ],
      "metadata": {
        "id": "cxfBT1_wwnWr"
      }
    },
    {
      "cell_type": "code",
      "source": [
        "class Person:\n",
        "    def __init__(self, name, age):\n",
        "        self.name = name\n",
        "        self.age = age\n",
        "\n",
        "    def greet(self):\n",
        "        print(f\"Hello, my name is {self.name} and I am {self.age} years old.\")\n",
        "\n",
        "# Example usage\n",
        "p1 = Person(\"Vipul\", 34)\n",
        "p1.greet()\n"
      ],
      "metadata": {
        "colab": {
          "base_uri": "https://localhost:8080/"
        },
        "id": "x6lBCWbrxbYC",
        "outputId": "d3f11122-a0e8-4d4e-f58c-1b8bb1eeff45"
      },
      "execution_count": 26,
      "outputs": [
        {
          "output_type": "stream",
          "name": "stdout",
          "text": [
            "Hello, my name is Vipul and I am 34 years old.\n"
          ]
        }
      ]
    },
    {
      "cell_type": "markdown",
      "source": [
        "**Implement a class Student with attributes name and grades. Create a method average_grade() to compute\n",
        "the average of the grades**"
      ],
      "metadata": {
        "id": "TdN6SyyYwnTn"
      }
    },
    {
      "cell_type": "code",
      "source": [
        "class Student:\n",
        "    def __init__(self, name, grades):\n",
        "        self.name = name\n",
        "        self.grades = grades  # grades should be a list of numbers\n",
        "\n",
        "    def average_grade(self):\n",
        "        if len(self.grades) == 0:\n",
        "            return 0\n",
        "        return sum(self.grades) / len(self.grades)\n",
        "\n",
        "# Example usage\n",
        "s1 = Student(\"Vipul\", [85, 90, 78, 92])\n",
        "print(f\"{s1.name}'s average grade is: {s1.average_grade()}\")\n"
      ],
      "metadata": {
        "colab": {
          "base_uri": "https://localhost:8080/"
        },
        "id": "a_kCkKqVxcAS",
        "outputId": "6d8987b1-3e92-48ce-f800-36010b617f25"
      },
      "execution_count": 27,
      "outputs": [
        {
          "output_type": "stream",
          "name": "stdout",
          "text": [
            "Vipul's average grade is: 86.25\n"
          ]
        }
      ]
    },
    {
      "cell_type": "markdown",
      "source": [
        "**Create a class Rectangle with methods set_dimensions() to set the dimensions and area() to calculate the\n",
        "area**"
      ],
      "metadata": {
        "id": "BvrLWgTLwnPo"
      }
    },
    {
      "cell_type": "code",
      "source": [
        "class Rectangle:\n",
        "    def __init__(self):\n",
        "        self.length = 0\n",
        "        self.width = 0\n",
        "\n",
        "    def set_dimensions(self, length, width):\n",
        "        self.length = length\n",
        "        self.width = width\n",
        "\n",
        "    def area(self):\n",
        "        return self.length * self.width\n",
        "\n",
        "# Example usage\n",
        "rect = Rectangle()\n",
        "rect.set_dimensions(5, 3)\n",
        "print(\"Area of rectangle:\", rect.area())\n"
      ],
      "metadata": {
        "colab": {
          "base_uri": "https://localhost:8080/"
        },
        "id": "rjetQhf0xcyw",
        "outputId": "f072f640-1faa-46fd-eff8-c1768d90636c"
      },
      "execution_count": 28,
      "outputs": [
        {
          "output_type": "stream",
          "name": "stdout",
          "text": [
            "Area of rectangle: 15\n"
          ]
        }
      ]
    },
    {
      "cell_type": "markdown",
      "source": [
        "**Create a class Product with attributes name, price, and quantity. Implement a method total_price() that\n",
        "calculates the total price of the product**"
      ],
      "metadata": {
        "id": "_HOVN5rawnML"
      }
    },
    {
      "cell_type": "code",
      "source": [
        "class Product:\n",
        "    def __init__(self, name, price, quantity):\n",
        "        self.name = name\n",
        "        self.price = price\n",
        "        self.quantity = quantity\n",
        "\n",
        "    def total_price(self):\n",
        "        return self.price * self.quantity\n",
        "\n",
        "# Example usage\n",
        "item = Product(\"Laptop\", 50000, 2)\n",
        "print(\"Total price:\", item.total_price())\n"
      ],
      "metadata": {
        "colab": {
          "base_uri": "https://localhost:8080/"
        },
        "id": "ZBzM_ubQxdpg",
        "outputId": "f860bfa0-2f44-441c-f065-63d6768435b2"
      },
      "execution_count": 29,
      "outputs": [
        {
          "output_type": "stream",
          "name": "stdout",
          "text": [
            "Total price: 100000\n"
          ]
        }
      ]
    },
    {
      "cell_type": "markdown",
      "source": [
        "**Create a class Animal with an abstract method sound(). Create two derived classes Cow and Sheep that\n",
        "implement the sound() method**"
      ],
      "metadata": {
        "id": "eeCCLloVwnJP"
      }
    },
    {
      "cell_type": "code",
      "source": [
        "from abc import ABC, abstractmethod\n",
        "\n",
        "# Abstract base class\n",
        "class Animal(ABC):\n",
        "    @abstractmethod\n",
        "    def sound(self):\n",
        "        pass\n",
        "\n",
        "# Derived class Cow\n",
        "class Cow(Animal):\n",
        "    def sound(self):\n",
        "        return \"Moo\"\n",
        "\n",
        "# Derived class Sheep\n",
        "class Sheep(Animal):\n",
        "    def sound(self):\n",
        "        return \"Baa\"\n",
        "\n",
        "# Example usage\n",
        "cow = Cow()\n",
        "sheep = Sheep()\n",
        "\n",
        "print(\"Cow sound:\", cow.sound())\n",
        "print(\"Sheep sound:\", sheep.sound())\n"
      ],
      "metadata": {
        "colab": {
          "base_uri": "https://localhost:8080/"
        },
        "id": "iORANF-QxeSc",
        "outputId": "462edca9-0def-45e0-b44d-488524ac1ca1"
      },
      "execution_count": 30,
      "outputs": [
        {
          "output_type": "stream",
          "name": "stdout",
          "text": [
            "Cow sound: Moo\n",
            "Sheep sound: Baa\n"
          ]
        }
      ]
    },
    {
      "cell_type": "markdown",
      "source": [
        "**Create a class Book with attributes title, author, and year_published. Add a method get_book_info() that\n",
        "returns a formatted string with the book's details**"
      ],
      "metadata": {
        "id": "gAjyG-pXwnBf"
      }
    },
    {
      "cell_type": "code",
      "source": [
        "class Book:\n",
        "    def __init__(self, title, author, year_published):\n",
        "        self.title = title\n",
        "        self.author = author\n",
        "        self.year_published = year_published\n",
        "\n",
        "    def get_book_info(self):\n",
        "        return f\"'{self.title}' by {self.author} (Published in {self.year_published})\"\n",
        "\n",
        "# Example usage\n",
        "book1 = Book(\"To Kill a Mockingbird\", \"Harper Lee\", 1960)\n",
        "print(book1.get_book_info())\n"
      ],
      "metadata": {
        "colab": {
          "base_uri": "https://localhost:8080/"
        },
        "id": "CcUCj4pMxeuu",
        "outputId": "27697158-d31e-473a-b033-9dad1b71f56c"
      },
      "execution_count": 31,
      "outputs": [
        {
          "output_type": "stream",
          "name": "stdout",
          "text": [
            "'To Kill a Mockingbird' by Harper Lee (Published in 1960)\n"
          ]
        }
      ]
    },
    {
      "cell_type": "markdown",
      "source": [
        "**Create a class House with attributes address and price. Create a derived class Mansion that adds an\n",
        "attribute number_of_rooms**"
      ],
      "metadata": {
        "id": "ssrahp2xwmrn"
      }
    },
    {
      "cell_type": "code",
      "source": [
        "class House:\n",
        "    def __init__(self, address, price):\n",
        "        self.address = address\n",
        "        self.price = price\n",
        "\n",
        "    def get_info(self):\n",
        "        return f\"Address: {self.address}, Price: ₹{self.price}\"\n",
        "\n",
        "class Mansion(House):\n",
        "    def __init__(self, address, price, number_of_rooms):\n",
        "        super().__init__(address, price)\n",
        "        self.number_of_rooms = number_of_rooms\n",
        "\n",
        "    def get_info(self):\n",
        "        base_info = super().get_info()\n",
        "        return f\"{base_info}, Rooms: {self.number_of_rooms}\"\n",
        "\n",
        "# Example usage\n",
        "mansion1 = Mansion(\"123 Palm Street\", 50000000, 10)\n",
        "print(mansion1.get_info())\n"
      ],
      "metadata": {
        "colab": {
          "base_uri": "https://localhost:8080/"
        },
        "id": "dJ48HGOfxfKG",
        "outputId": "c84f8005-848e-4291-83e0-ccb449ac0f7a"
      },
      "execution_count": 34,
      "outputs": [
        {
          "output_type": "stream",
          "name": "stdout",
          "text": [
            "Address: 123 Palm Street, Price: ₹50000000, Rooms: 10\n"
          ]
        }
      ]
    }
  ]
}